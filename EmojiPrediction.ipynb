{
 "cells": [
  {
   "cell_type": "code",
   "execution_count": 1,
   "metadata": {},
   "outputs": [],
   "source": [
    "import numpy as np\n",
    "from emo_utils import *\n",
    "import emoji\n",
    "import matplotlib.pyplot as plt\n",
    "\n",
    "%matplotlib inline"
   ]
  },
  {
   "cell_type": "markdown",
   "metadata": {},
   "source": [
    "### DataSet EmojiSet\n",
    "We have a tiny dataset (X, Y) where:\n",
    "- X contains 127 sentences (strings).\n",
    "- Y contains an integer label between 0 and 4 corresponding to an emoji for each sentence.\n"
   ]
  },
  {
   "cell_type": "code",
   "execution_count": 2,
   "metadata": {},
   "outputs": [],
   "source": [
    "X_train, Y_train = read_csv('data/train_emoji.csv')\n",
    "X_test, Y_test = read_csv('data/tesss.csv')\n"
   ]
  },
  {
   "cell_type": "code",
   "execution_count": 3,
   "metadata": {},
   "outputs": [
    {
     "name": "stdout",
     "output_type": "stream",
     "text": [
      "10\n"
     ]
    }
   ],
   "source": [
    "# To find out the maximum sentecne length in the X_train\n",
    "maxLen = len(max(X_train, key=len).split())\n",
    "print(maxLen)\n"
   ]
  },
  {
   "cell_type": "code",
   "execution_count": 4,
   "metadata": {},
   "outputs": [
    {
     "name": "stdout",
     "output_type": "stream",
     "text": [
      "never talk to me again 😞\n",
      "I am proud of your achievements 😄\n",
      "It is the worst day in my life 😞\n",
      "Miss you so much ❤️\n",
      "food is life 🍴\n",
      "I love you mum ❤️\n",
      "Stop saying bullshit 😞\n",
      "congratulations on your acceptance 😄\n",
      "The assignment is too long  😞\n",
      "I want to go play ⚾\n"
     ]
    }
   ],
   "source": [
    "for idx in range(10):\n",
    "    print(X_train[idx], label_to_emoji(Y_train[idx]))"
   ]
  },
  {
   "cell_type": "code",
   "execution_count": 21,
   "metadata": {},
   "outputs": [],
   "source": [
    "# Reading the Glove Vectors\n",
    "def read_glove_vecs(glove_file):\n",
    "    with open(glove_file, 'r',encoding=\"utf-8\") as f:\n",
    "        words = set()\n",
    "        word_to_vec_map = {}\n",
    "        for line in f:\n",
    "            line = line.strip().split()\n",
    "            curr_word = line[0]\n",
    "            words.add(curr_word)\n",
    "            word_to_vec_map[curr_word] = np.array(line[1:], dtype=np.float64)\n",
    "        \n",
    "        i = 1\n",
    "        words_to_index = {}\n",
    "        index_to_words = {}\n",
    "        for w in sorted(words):\n",
    "            words_to_index[w] = i\n",
    "            index_to_words[i] = w\n",
    "            i = i + 1\n",
    "    return words_to_index, index_to_words, word_to_vec_map"
   ]
  },
  {
   "cell_type": "code",
   "execution_count": 22,
   "metadata": {},
   "outputs": [],
   "source": [
    "word_to_index, index_to_word, word_to_vec_map = read_glove_vecs('glove.6B.50d.txt')"
   ]
  },
  {
   "cell_type": "markdown",
   "metadata": {},
   "source": [
    "We have loaded\n",
    "- `word_to_index`: dictionary mapping from words to their indices in the vocabulary \n",
    "    - (400,001 words, with the valid indices ranging from 0 to 400,000)\n",
    "- `index_to_word`: dictionary mapping from indices to their corresponding words in the vocabulary\n",
    "- `word_to_vec_map`: dictionary mapping words to their GloVe vector representation."
   ]
  },
  {
   "cell_type": "code",
   "execution_count": 23,
   "metadata": {},
   "outputs": [
    {
     "name": "stdout",
     "output_type": "stream",
     "text": [
      "the index of cucumber in the vocabulary is 113317\n",
      "the 289846th word in the vocabulary is potatos\n"
     ]
    }
   ],
   "source": [
    "word = \"cucumber\"\n",
    "idx = 289846\n",
    "print(\"the index of\", word, \"in the vocabulary is\", word_to_index[word])\n",
    "print(\"the\", str(idx) + \"th word in the vocabulary is\", index_to_word[idx])"
   ]
  },
  {
   "cell_type": "code",
   "execution_count": 24,
   "metadata": {},
   "outputs": [
    {
     "data": {
      "text/plain": [
       "array([-0.42783 ,  0.43089 , -0.50351 ,  0.5776  ,  0.097786,  0.2608  ,\n",
       "       -0.68767 , -0.31936 , -0.25337 , -0.37255 , -0.045907, -0.53688 ,\n",
       "        0.97511 , -0.44595 , -0.50414 , -0.086751, -1.0645  ,  0.36625 ,\n",
       "       -0.52428 , -1.3413  , -0.2391  , -0.58808 ,  0.56378 , -0.062501,\n",
       "       -1.7429  , -0.88077 , -0.27933 ,  1.4705  ,  0.50436 , -0.69174 ,\n",
       "        2.0018  ,  0.26663 , -0.85679 , -0.18893 , -0.021125, -0.055118,\n",
       "       -0.50337 , -0.67157 ,  0.55502 , -0.8009  ,  0.10695 ,  0.1459  ,\n",
       "       -0.55588 , -0.64971 ,  0.22046 ,  0.67415 , -0.45119 , -1.1462  ,\n",
       "        0.16348 , -0.62946 ])"
      ]
     },
     "execution_count": 24,
     "metadata": {},
     "output_type": "execute_result"
    }
   ],
   "source": [
    "word_to_vec_map['orange']"
   ]
  },
  {
   "cell_type": "markdown",
   "metadata": {},
   "source": [
    "### Model \n",
    "\n",
    "* We will build an LSTM model that will take sequences as input\n",
    "* To represent words we will use the pretrained word embeddings\n",
    "* For a given sentence (sequence of words the model will learn to predict the most important emoji"
   ]
  },
  {
   "cell_type": "code",
   "execution_count": 25,
   "metadata": {},
   "outputs": [
    {
     "name": "stderr",
     "output_type": "stream",
     "text": [
      "Using TensorFlow backend.\n"
     ]
    }
   ],
   "source": [
    "np.random.seed(0)\n",
    "from keras.models import Model\n",
    "from keras.layers import Dense, Input, Dropout, LSTM, Activation\n",
    "from keras.layers.embeddings import Embedding\n",
    "from keras.preprocessing import sequence\n",
    "from keras.initializers import glorot_uniform\n",
    "np.random.seed(1)"
   ]
  },
  {
   "cell_type": "markdown",
   "metadata": {},
   "source": [
    "### Padding\n",
    "\n",
    "To handle sequences of different lengths we will do Padding for this\n",
    "* We will set a max sequence length\n",
    "* padd all the sequences to have this same length\n",
    "\n",
    "We are doing padding because most deep learning frameworks require that all sequences in the same mini-batch have the same length and suppose if we had a 3-word sentence and a 4-word sentence, then the computations needed for them are different (one takes 3 steps of an LSTM, one takes 4 steps) so it's just not possible to do them both at the same time. Therefore padding is required"
   ]
  },
  {
   "cell_type": "markdown",
   "metadata": {},
   "source": [
    "### Embedding Layer \n",
    "\n",
    "* In Keras Embedding Matrix is represented as a layer\n",
    "* Embedding matrix maps word indices to word vectors\n",
    "* for the embedding vectors we are using pre-trained glove word vectors\n",
    "* for this we will use [Embedding()](https://keras.io/layers/embeddings/) in keras\n",
    "\n",
    "#### Input is :-\n",
    "  Input of the embedding layer is (Batch_size , max_len of the sequence) this contains word indices in of the words that are in the sentence . and the embedding layer outputs an array of shape (batch_size , max_len ,embedding dimension). The embedding dimension in our case is 50.\n",
    "  \n",
    "We will inititalise the embedding layer with Glove-50 dimensional vectors. "
   ]
  },
  {
   "cell_type": "code",
   "execution_count": 26,
   "metadata": {},
   "outputs": [
    {
     "name": "stdout",
     "output_type": "stream",
     "text": [
      "0 I\n",
      "1 like\n",
      "2 learning\n"
     ]
    }
   ],
   "source": [
    "for idx, val in enumerate([\"I\", \"like\", \"learning\"]):\n",
    "    print(idx,val)"
   ]
  },
  {
   "cell_type": "code",
   "execution_count": 31,
   "metadata": {},
   "outputs": [],
   "source": [
    "# First we need the function which converts array of sentences (strings) into an array of indices . Yhr output of this function\n",
    "# will be given to Embedding layer\n",
    "def sentences_to_indices(X, word_to_index, max_len):\n",
    "    \"\"\"\n",
    "    Arguments:\n",
    "    X -- array of sentences (strings), of shape (m, 1)\n",
    "    word_to_index -- a dictionary containing the each word mapped to its index\n",
    "    max_len -- maximum number of words in a sentence. You can assume every sentence in X is no longer than this. \n",
    "    \n",
    "    Returns:\n",
    "    X_indices -- array of indices corresponding to words in the sentences from X, of shape (m, max_len)\n",
    "    \n",
    "    \"\"\"\n",
    "    m = X.shape[0] \n",
    "    X_indices = np.zeros((m,max_len))\n",
    "    for i in range(m):\n",
    "        words = X[i].lower().split()\n",
    "        j  = 0\n",
    "        for w in words:\n",
    "            X_indices[i,j] = word_to_index[w]\n",
    "            j+=1\n",
    "    return X_indices"
   ]
  },
  {
   "cell_type": "code",
   "execution_count": 33,
   "metadata": {},
   "outputs": [
    {
     "name": "stdout",
     "output_type": "stream",
     "text": [
      "X1 = ['funny lol' 'lets play baseball' 'food is ready for you']\n",
      "X1_indices =\n",
      " [[155345. 225122.      0.      0.      0.]\n",
      " [220930. 286375.  69714.      0.      0.]\n",
      " [151204. 192973. 302254. 151349. 394475.]]\n"
     ]
    }
   ],
   "source": [
    "X1 = np.array([\"funny lol\", \"lets play baseball\", \"food is ready for you\"])\n",
    "X1_indices = sentences_to_indices(X1,word_to_index, max_len = 5)\n",
    "print(\"X1 =\", X1)\n",
    "print(\"X1_indices =\\n\", X1_indices)\n"
   ]
  },
  {
   "cell_type": "code",
   "execution_count": 36,
   "metadata": {},
   "outputs": [],
   "source": [
    "# creates a Keras Embedding() layer and loads in pre-trained GloVe 50-dimensional vectors.\n",
    "def pretrained_embedding_layer(word_to_vec_map, word_to_index):\n",
    "    \"\"\"\n",
    "    Arguments:\n",
    "    word_to_vec_map -- dictionary mapping words to their GloVe vector representation.\n",
    "    word_to_index -- dictionary mapping from words to their indices in the vocabulary (400,001 words)\n",
    "\n",
    "    Returns:\n",
    "    embedding_layer -- pretrained layer Keras instance\n",
    "    \"\"\"\n",
    "    vocab_len = len(word_to_index) +1  # Adding one to handle unknown words <UNK>\n",
    "    emb_dim = word_to_vec_map['cucumber'].shape[0]\n",
    "    \n",
    "    # Initializing Embedding Matrix\n",
    "    emb_mat = np.zeros((vocab_len,emb_dim))\n",
    "    \n",
    "    # Now we need to set each row of the matrix as the corresponding word vector\n",
    "    for word,index in word_to_index.items():\n",
    "        emb_mat[index,:] = word_to_vec_map[word]\n",
    "    \n",
    "    # We will define a keras embedding layer and set it to non trainable as we do not nedd our algo to modify these     \n",
    "    # pretrained embeddings\n",
    "    emb_layer = Embedding(vocab_len,emb_dim,trainable = False)\n",
    "    \n",
    "    # Before Setting the weights of the embedding layer it is required to build the embedding layer\n",
    "    emb_layer.build((None,))\n",
    "    emb_layer.set_weights([emb_mat])\n",
    "    return emb_layer\n"
   ]
  },
  {
   "cell_type": "code",
   "execution_count": 40,
   "metadata": {},
   "outputs": [
    {
     "name": "stdout",
     "output_type": "stream",
     "text": [
      "weights[0][1][3] = 0.65282\n"
     ]
    }
   ],
   "source": [
    "embedding_layer = pretrained_embedding_layer(word_to_vec_map, word_to_index)\n",
    "print(\"weights[0][1][3] =\", embedding_layer.get_weights()[0][1][2])"
   ]
  },
  {
   "cell_type": "code",
   "execution_count": 41,
   "metadata": {},
   "outputs": [],
   "source": [
    "# Building the model\n",
    "# The model takes as input an array of sentences of shape (m, max_len, ) defined by input_shape.\n",
    "# The model outputs a softmax probability vector of shape (m, C = 5).\n",
    "\n",
    "# This is a function to create emoji model's graph\n",
    "\n",
    "def emoji_model(input_shape, word_to_vec_map, word_to_index):\n",
    "    \"\"\"\n",
    "    Arguments:\n",
    "    input_shape -- shape of the input, usually (max_len,)\n",
    "    \n",
    "    \"\"\"\n",
    "    sentence_indices = Input(input_shape,dtype = 'int32') # Define sentence_indices as the input of the graph.\n",
    "    emb_layer = pretrained_embedding_layer(word_to_vec_map, word_to_index)\n",
    "    \n",
    "    # Propogating sentence_indices through the embedding layer\n",
    "    embeddings = emb_layer(sentence_indices)\n",
    "    \n",
    "    # Now we will Propagate the embeddings through an LSTM layer with 128-dimensional hidden state\n",
    "    # The returned output should be a batch of sequences.\n",
    "    X = LSTM(128,return_sequences = True)(embeddings)\n",
    "    X = Dropout(0.5)(X) # TO prevent overfitting we add dropout with probablity 0.5\n",
    "    X = LSTM(128, return_sequences=False)(X) # return output should be single activation not a batch of sequences\n",
    "    X = Dropout(0.5)(X)\n",
    "    # Propogating X through a Dense layer with 5 units (because there are 5 emojis i.e 5 labels)\n",
    "    X = Dense(5)(X)\n",
    "    X = Activation('softmax')(X)\n",
    "    \n",
    "    # Creating the model\n",
    "    model = Model(inputs = sentence_indices,outputs = X)\n",
    "    return model"
   ]
  },
  {
   "cell_type": "code",
   "execution_count": 42,
   "metadata": {},
   "outputs": [
    {
     "name": "stdout",
     "output_type": "stream",
     "text": [
      "Model: \"model_1\"\n",
      "_________________________________________________________________\n",
      "Layer (type)                 Output Shape              Param #   \n",
      "=================================================================\n",
      "input_1 (InputLayer)         (None, 10)                0         \n",
      "_________________________________________________________________\n",
      "embedding_6 (Embedding)      (None, 10, 50)            20000050  \n",
      "_________________________________________________________________\n",
      "lstm_1 (LSTM)                (None, 10, 128)           91648     \n",
      "_________________________________________________________________\n",
      "dropout_1 (Dropout)          (None, 10, 128)           0         \n",
      "_________________________________________________________________\n",
      "lstm_2 (LSTM)                (None, 128)               131584    \n",
      "_________________________________________________________________\n",
      "dropout_2 (Dropout)          (None, 128)               0         \n",
      "_________________________________________________________________\n",
      "dense_1 (Dense)              (None, 5)                 645       \n",
      "_________________________________________________________________\n",
      "activation_1 (Activation)    (None, 5)                 0         \n",
      "=================================================================\n",
      "Total params: 20,223,927\n",
      "Trainable params: 223,877\n",
      "Non-trainable params: 20,000,050\n",
      "_________________________________________________________________\n"
     ]
    }
   ],
   "source": [
    "model = emoji_model((maxLen,), word_to_vec_map, word_to_index)\n",
    "model.summary()"
   ]
  },
  {
   "cell_type": "code",
   "execution_count": 43,
   "metadata": {},
   "outputs": [],
   "source": [
    "model.compile(loss='categorical_crossentropy', optimizer='adam', metrics=['accuracy'])"
   ]
  },
  {
   "cell_type": "markdown",
   "metadata": {},
   "source": [
    "### Training The Model\n",
    "\n",
    "Our model takes as input an array of shape (m, max_len) and outputs probability vectors of shape (m, number of classes). We thus have to convert X_train (array of sentences as strings) to X_train_indices (array of sentences as list of word indices), and Y_train (labels as indices) to Y_train_oh (labels as one-hot vectors)."
   ]
  },
  {
   "cell_type": "code",
   "execution_count": 44,
   "metadata": {},
   "outputs": [],
   "source": [
    "X_train_indices = sentences_to_indices(X_train, word_to_index, maxLen)\n",
    "Y_train_oh = convert_to_one_hot(Y_train, C = 5)"
   ]
  },
  {
   "cell_type": "code",
   "execution_count": 45,
   "metadata": {},
   "outputs": [
    {
     "name": "stdout",
     "output_type": "stream",
     "text": [
      "Epoch 1/50\n",
      "132/132 [==============================] - 2s 12ms/step - loss: 1.5795 - accuracy: 0.2727\n",
      "Epoch 2/50\n",
      "132/132 [==============================] - 0s 2ms/step - loss: 1.5050 - accuracy: 0.3182\n",
      "Epoch 3/50\n",
      "132/132 [==============================] - 0s 902us/step - loss: 1.4391 - accuracy: 0.4318\n",
      "Epoch 4/50\n",
      "132/132 [==============================] - 0s 917us/step - loss: 1.3455 - accuracy: 0.4697\n",
      "Epoch 5/50\n",
      "132/132 [==============================] - 0s 916us/step - loss: 1.2355 - accuracy: 0.5682\n",
      "Epoch 6/50\n",
      "132/132 [==============================] - 0s 984us/step - loss: 1.1305 - accuracy: 0.6136\n",
      "Epoch 7/50\n",
      "132/132 [==============================] - 0s 3ms/step - loss: 1.0234 - accuracy: 0.5985\n",
      "Epoch 8/50\n",
      "132/132 [==============================] - 0s 1ms/step - loss: 0.9279 - accuracy: 0.6591\n",
      "Epoch 9/50\n",
      "132/132 [==============================] - 0s 903us/step - loss: 0.7734 - accuracy: 0.7273\n",
      "Epoch 10/50\n",
      "132/132 [==============================] - 0s 915us/step - loss: 0.6674 - accuracy: 0.7727\n",
      "Epoch 11/50\n",
      "132/132 [==============================] - 0s 996us/step - loss: 0.6168 - accuracy: 0.7727\n",
      "Epoch 12/50\n",
      "132/132 [==============================] - 0s 2ms/step - loss: 0.5740 - accuracy: 0.7879\n",
      "Epoch 13/50\n",
      "132/132 [==============================] - 0s 3ms/step - loss: 0.4799 - accuracy: 0.8333\n",
      "Epoch 14/50\n",
      "132/132 [==============================] - 0s 2ms/step - loss: 0.5052 - accuracy: 0.7955\n",
      "Epoch 15/50\n",
      "132/132 [==============================] - 0s 3ms/step - loss: 0.6380 - accuracy: 0.7652\n",
      "Epoch 16/50\n",
      "132/132 [==============================] - 0s 2ms/step - loss: 0.3941 - accuracy: 0.8485\n",
      "Epoch 17/50\n",
      "132/132 [==============================] - 0s 2ms/step - loss: 0.3729 - accuracy: 0.8561\n",
      "Epoch 18/50\n",
      "132/132 [==============================] - 0s 917us/step - loss: 0.3285 - accuracy: 0.9015\n",
      "Epoch 19/50\n",
      "132/132 [==============================] - 0s 916us/step - loss: 0.2436 - accuracy: 0.9318\n",
      "Epoch 20/50\n",
      "132/132 [==============================] - 0s 1ms/step - loss: 0.2428 - accuracy: 0.9242\n",
      "Epoch 21/50\n",
      "132/132 [==============================] - 0s 916us/step - loss: 0.3161 - accuracy: 0.8939\n",
      "Epoch 22/50\n",
      "132/132 [==============================] - 0s 917us/step - loss: 0.2366 - accuracy: 0.8939\n",
      "Epoch 23/50\n",
      "132/132 [==============================] - 0s 918us/step - loss: 0.2950 - accuracy: 0.8939\n",
      "Epoch 24/50\n",
      "132/132 [==============================] - 0s 994us/step - loss: 0.2071 - accuracy: 0.9318\n",
      "Epoch 25/50\n",
      "132/132 [==============================] - 0s 1ms/step - loss: 0.1706 - accuracy: 0.9394\n",
      "Epoch 26/50\n",
      "132/132 [==============================] - 0s 918us/step - loss: 0.1561 - accuracy: 0.9470\n",
      "Epoch 27/50\n",
      "132/132 [==============================] - 0s 1ms/step - loss: 0.1324 - accuracy: 0.9394\n",
      "Epoch 28/50\n",
      "132/132 [==============================] - 0s 3ms/step - loss: 0.1016 - accuracy: 0.9848\n",
      "Epoch 29/50\n",
      "132/132 [==============================] - 0s 1ms/step - loss: 0.5667 - accuracy: 0.7955\n",
      "Epoch 30/50\n",
      "132/132 [==============================] - 0s 978us/step - loss: 0.3966 - accuracy: 0.8864\n",
      "Epoch 31/50\n",
      "132/132 [==============================] - 0s 2ms/step - loss: 0.2499 - accuracy: 0.9242\n",
      "Epoch 32/50\n",
      "132/132 [==============================] - 0s 2ms/step - loss: 0.2197 - accuracy: 0.9318\n",
      "Epoch 33/50\n",
      "132/132 [==============================] - 0s 2ms/step - loss: 0.1364 - accuracy: 0.9621\n",
      "Epoch 34/50\n",
      "132/132 [==============================] - 0s 2ms/step - loss: 0.1817 - accuracy: 0.9318\n",
      "Epoch 35/50\n",
      "132/132 [==============================] - 0s 916us/step - loss: 0.1069 - accuracy: 0.9621\n",
      "Epoch 36/50\n",
      "132/132 [==============================] - 0s 936us/step - loss: 0.1209 - accuracy: 0.9697\n",
      "Epoch 37/50\n",
      "132/132 [==============================] - 0s 938us/step - loss: 0.0771 - accuracy: 0.9697\n",
      "Epoch 38/50\n",
      "132/132 [==============================] - 0s 995us/step - loss: 0.0709 - accuracy: 0.9773\n",
      "Epoch 39/50\n",
      "132/132 [==============================] - 0s 917us/step - loss: 0.0593 - accuracy: 0.9924\n",
      "Epoch 40/50\n",
      "132/132 [==============================] - 0s 902us/step - loss: 0.0377 - accuracy: 1.0000\n",
      "Epoch 41/50\n",
      "132/132 [==============================] - 0s 909us/step - loss: 0.0484 - accuracy: 0.9924\n",
      "Epoch 42/50\n",
      "132/132 [==============================] - 0s 917us/step - loss: 0.0362 - accuracy: 0.9924\n",
      "Epoch 43/50\n",
      "132/132 [==============================] - 0s 915us/step - loss: 0.0315 - accuracy: 0.9924\n",
      "Epoch 44/50\n",
      "132/132 [==============================] - 0s 1ms/step - loss: 0.0386 - accuracy: 0.9924\n",
      "Epoch 45/50\n",
      "132/132 [==============================] - 0s 2ms/step - loss: 0.0640 - accuracy: 0.9773\n",
      "Epoch 46/50\n",
      "132/132 [==============================] - 0s 2ms/step - loss: 0.0433 - accuracy: 0.9848\n",
      "Epoch 47/50\n",
      "132/132 [==============================] - 0s 918us/step - loss: 0.3700 - accuracy: 0.9015\n",
      "Epoch 48/50\n",
      "132/132 [==============================] - 0s 995us/step - loss: 0.4122 - accuracy: 0.8636\n",
      "Epoch 49/50\n",
      "132/132 [==============================] - 0s 995us/step - loss: 0.2747 - accuracy: 0.9242\n",
      "Epoch 50/50\n",
      "132/132 [==============================] - 0s 2ms/step - loss: 0.5889 - accuracy: 0.7803\n"
     ]
    },
    {
     "data": {
      "text/plain": [
       "<keras.callbacks.callbacks.History at 0x1c884aac208>"
      ]
     },
     "execution_count": 45,
     "metadata": {},
     "output_type": "execute_result"
    }
   ],
   "source": [
    "model.fit(X_train_indices, Y_train_oh, epochs = 50, batch_size = 32, shuffle=True)"
   ]
  },
  {
   "cell_type": "markdown",
   "metadata": {},
   "source": [
    "### Evaluating the model on the Test Set\n"
   ]
  },
  {
   "cell_type": "code",
   "execution_count": 48,
   "metadata": {},
   "outputs": [
    {
     "name": "stdout",
     "output_type": "stream",
     "text": [
      "56/56 [==============================] - 0s 4ms/step\n",
      "\n",
      "Test accuracy =  0.7142857313156128\n"
     ]
    }
   ],
   "source": [
    "X_test_indices = sentences_to_indices(X_test, word_to_index, maxLen)\n",
    "Y_test_oh = convert_to_one_hot(Y_test, C = 5)\n",
    "loss, acc = model.evaluate(X_test_indices, Y_test_oh)\n",
    "print()\n",
    "print(\"Test accuracy = \", acc)"
   ]
  },
  {
   "cell_type": "code",
   "execution_count": 49,
   "metadata": {},
   "outputs": [],
   "source": [
    "# Predictions \n",
    "def predict(X, Y, W, b, word_to_vec_map):\n",
    "    \"\"\"\n",
    "    Given X (sentences) and Y (emoji indices), predict emojis and compute the accuracy of your model over the given set.\n",
    "    \n",
    "    Arguments:\n",
    "    X -- input data containing sentences, numpy array of shape (m, None)\n",
    "    Y -- labels, containing index of the label emoji, numpy array of shape (m, 1)\n",
    "    \n",
    "    Returns:\n",
    "    pred -- numpy array of shape (m, 1) with your predictions\n",
    "    \"\"\"\n",
    "    m = X.shape[0]\n",
    "    pred = np.zeros((m, 1))\n",
    "    \n",
    "    for j in range(m):                       # Loop over training examples\n",
    "        \n",
    "        # Split jth test example (sentence) into list of lower case words\n",
    "        words = X[j].lower().split()\n",
    "        \n",
    "        # Average words' vectors\n",
    "        avg = np.zeros((50,))\n",
    "        for w in words:\n",
    "            avg += word_to_vec_map[w]\n",
    "        avg = avg/len(words)\n",
    "\n",
    "        # Forward propagation\n",
    "        Z = np.dot(W, avg) + b\n",
    "        A = softmax(Z)\n",
    "        pred[j] = np.argmax(A)\n",
    "        \n",
    "    print(\"Accuracy: \"  + str(np.mean((pred[:] == Y.reshape(Y.shape[0],1)[:]))))\n",
    "    \n",
    "    return pred\n"
   ]
  },
  {
   "cell_type": "code",
   "execution_count": 50,
   "metadata": {},
   "outputs": [],
   "source": [
    "def print_predictions(X, pred):\n",
    "    print()\n",
    "    for i in range(X.shape[0]):\n",
    "        print(X[i], label_to_emoji(int(pred[i])))"
   ]
  },
  {
   "cell_type": "markdown",
   "metadata": {},
   "source": [
    "### Predicting the Emoji for any given sentence"
   ]
  },
  {
   "cell_type": "code",
   "execution_count": 55,
   "metadata": {},
   "outputs": [
    {
     "name": "stdout",
     "output_type": "stream",
     "text": [
      "not feeling happy 😞\n"
     ]
    }
   ],
   "source": [
    "sample_sentence = np.array(['not feeling happy'])\n",
    "sample_sentence_indices = sentences_to_indices(sample_sentence, word_to_index, maxLen)\n",
    "print(sample_sentence[0] +' '+  label_to_emoji(np.argmax(model.predict(sample_sentence_indices))))"
   ]
  },
  {
   "cell_type": "code",
   "execution_count": null,
   "metadata": {},
   "outputs": [],
   "source": []
  }
 ],
 "metadata": {
  "kernelspec": {
   "display_name": "Python 3",
   "language": "python",
   "name": "python3"
  },
  "language_info": {
   "codemirror_mode": {
    "name": "ipython",
    "version": 3
   },
   "file_extension": ".py",
   "mimetype": "text/x-python",
   "name": "python",
   "nbconvert_exporter": "python",
   "pygments_lexer": "ipython3",
   "version": "3.7.4"
  }
 },
 "nbformat": 4,
 "nbformat_minor": 2
}
